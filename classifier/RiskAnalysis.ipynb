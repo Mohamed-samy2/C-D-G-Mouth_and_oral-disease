{
  "nbformat": 4,
  "nbformat_minor": 0,
  "metadata": {
    "colab": {
      "provenance": []
    },
    "kernelspec": {
      "name": "python3",
      "display_name": "Python 3"
    },
    "language_info": {
      "name": "python"
    }
  },
  "cells": [
    {
      "cell_type": "code",
      "source": [
        "import torch\n",
        "import torch.nn as nn\n",
        "from torch.utils.data import DataLoader\n",
        "from torchvision import datasets, transforms\n",
        "from sklearn.metrics import confusion_matrix, classification_report"
      ],
      "metadata": {
        "id": "Izwib88djEs2"
      },
      "execution_count": 2,
      "outputs": []
    },
    {
      "cell_type": "code",
      "source": [
        "# Evaluation and Risk Analysis\n",
        "with torch.no_grad():\n",
        "    all_preds, all_targets = [], []\n",
        "    #Validation loader\n",
        "    for images, labels in val_loader:\n",
        "        outputs = model(images)\n",
        "        _, preds = torch.max(outputs.data, 1)\n",
        "        all_preds.extend(preds.cpu().numpy())\n",
        "        all_targets.extend(labels.cpu().numpy())\n",
        "\n",
        "    #Confusion Matrix\n",
        "    cm = confusion_matrix(all_targets, all_preds)\n",
        "    print(cm)\n",
        "    print(classification_report(all_targets, all_preds))\n",
        "\n",
        "    # Identify misclassified images based on confusion matrix\n",
        "    misclassified_indices = (all_preds != all_targets).nonzero()\n",
        "\n",
        "    #Access missclassified images from val_dataset\n",
        "    misclassified_images = val_dataset[misclassified_indices[:, 0]]\n",
        "\n",
        "    #Access predicted missclassified images\n",
        "    misclassified_labels = all_targets[misclassified_indices[:, 0]]\n",
        "\n",
        "    for image, label, pred in zip(misclassified_images, misclassified_labels, all_preds[misclassified_indices[:, 0]]):\n",
        "        print(f\"Image: {image}, True Label: {label}, Predicted Label: {pred}\")\n"
      ],
      "metadata": {
        "id": "IYaJ2fIJjCAg"
      },
      "execution_count": null,
      "outputs": []
    }
  ]
}